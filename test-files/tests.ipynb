{
 "cells": [
  {
   "cell_type": "markdown",
   "metadata": {},
   "source": [
    "### Tests\n",
    "\n",
    "We're about to test our own MCP Server."
   ]
  },
  {
   "cell_type": "code",
   "execution_count": 2,
   "metadata": {},
   "outputs": [
    {
     "data": {
      "text/plain": [
       "True"
      ]
     },
     "execution_count": 2,
     "metadata": {},
     "output_type": "execute_result"
    },
    {
     "name": "stderr",
     "output_type": "stream",
     "text": [
      "[non-fatal] Tracing: server error 500, retrying.\n"
     ]
    }
   ],
   "source": [
    "from dotenv import load_dotenv\n",
    "from agents import Agent, Runner, trace\n",
    "from agents.mcp import MCPServerStdio\n",
    "from IPython.display import display, Markdown\n",
    "import json\n",
    "\n",
    "load_dotenv(override=True)"
   ]
  },
  {
   "cell_type": "markdown",
   "metadata": {},
   "source": [
    "### Now we write an MCP server and use it directly!"
   ]
  },
  {
   "cell_type": "code",
   "execution_count": 3,
   "metadata": {},
   "outputs": [],
   "source": [
    "# Now let's use our accounts server as an MCP server\n",
    "\n",
    "params = {\"command\": \"uv\", \"args\": [\"run\", \"mcp_server.py\"]}\n",
    "async with MCPServerStdio(params=params) as server:\n",
    "    mcp_tools = await server.list_tools()\n"
   ]
  },
  {
   "cell_type": "code",
   "execution_count": 4,
   "metadata": {},
   "outputs": [
    {
     "data": {
      "text/plain": [
       "[Tool(name='valid_beckn_payload', description='Tell if the given payload is valid as per the Beckn Protocol Specification.\\n\\n    Args:\\n        payload: The json payload to be validated\\n    ', inputSchema={'properties': {'payload': {'additionalProperties': True, 'title': 'Payload', 'type': 'object'}}, 'required': ['payload'], 'title': 'valid_beckn_payloadArguments', 'type': 'object'}, annotations=None)]"
      ]
     },
     "execution_count": 4,
     "metadata": {},
     "output_type": "execute_result"
    }
   ],
   "source": [
    "mcp_tools"
   ]
  },
  {
   "cell_type": "code",
   "execution_count": 47,
   "metadata": {},
   "outputs": [],
   "source": [
    "instructions = \"User are a helpful assistant who helps validate provide \\\n",
    "    if a provided JSON is valid as per Beckn protocol Specification. \\\n",
    "    Use the provided tools only to check the validity. \\\n",
    "    dont use any other source of truth to check validity. \\\n",
    "    \"\n",
    "request = \"check if the below JSON is valid as per Beckn protocol Specification. \"\n",
    "model = \"litellm/gemini/gemini-1.5-pro\"\n",
    "#model = \"gpt-4o-mini\"\n",
    "\n",
    "\n",
    "# text = \"if there is an internal server error in the tool, politely communicate to \\\n",
    "#         the user that the validation engine has an issue. Ask them to try again\\\n",
    "#     other wise return the reason if a JSON is invalid.\\\n",
    "#         dont return the stack trace of the error.\"\n",
    "\n"
   ]
  },
  {
   "cell_type": "code",
   "execution_count": 33,
   "metadata": {},
   "outputs": [
    {
     "name": "stdout",
     "output_type": "stream",
     "text": [
      "check if the below JSON is valid as per Beckn protocol Specification. {\"context\": {\"domain\": \"local-retail\", \"location\": {\"country\": {\"code\": \"IND\"}, \"city\": {\"code\": \"std:080\"}}, \"action\": \"search\", \"version\": \"1.1.0\", \"bap_id\": \"farmfresh.bap-id.com\", \"bap_uri\": \"https://www.55a6-124-123-32-28.ngrok-free.app\", \"transaction_id\": \"8100d125-76a7-4588-88be-81b97657cd09\", \"message_id\": \"6104c0a3-d1d1-4ded-aaa4-76e4caf727ce\", \"timestamp\": \"2023-11-06T09:41:09.673Z\"}, \"message\": {\"intent\": {\"item\": {\"descriptor\": {\"name\": \"Name of product/service\"}}, \"category\": {\"descriptor\": {\"code\": \"electronics\"}}, \"fulfillment\": {\"type\": \"DELIVERY\", \"stops\": [{\"location\": {\"gps\": \"28.4594965,77.0266383\"}}]}}}}\n"
     ]
    }
   ],
   "source": [
    "beckn_payload = {\n",
    "    \"context\": {\n",
    "        \"domain\": \"local-retail\",\n",
    "        \"location\": {\n",
    "            \"country\": {\n",
    "                \"code\": \"IND\"\n",
    "            },\n",
    "            \"city\": {\n",
    "                \"code\": \"std:080\"\n",
    "            }\n",
    "        },\n",
    "        \"action\": \"search\",\n",
    "        \"version\": \"1.1.0\",\n",
    "        \"bap_id\": \"farmfresh.bap-id.com\",\n",
    "        \"bap_uri\": \"https://www.55a6-124-123-32-28.ngrok-free.app\",\n",
    "        \"transaction_id\": \"8100d125-76a7-4588-88be-81b97657cd09\",\n",
    "        \"message_id\": \"6104c0a3-d1d1-4ded-aaa4-76e4caf727ce\",\n",
    "        \"timestamp\": \"2023-11-06T09:41:09.673Z\"\n",
    "    },\n",
    "    \"message\": {\n",
    "        \"intent\": {\n",
    "            \"item\": {\n",
    "                \"descriptor\": {\n",
    "                    \"name\": \"Name of product/service\"\n",
    "                }\n",
    "            },\n",
    "            \"category\": {\n",
    "                \"descriptor\": {\n",
    "                    \"code\": \"electronics\"\n",
    "                }\n",
    "            },\n",
    "            \"fulfillment\": {\n",
    "                \"type\": \"DELIVERY\",\n",
    "                \"stops\": [\n",
    "                    {\n",
    "                        \"location\": {\n",
    "                            \"gps\": \"28.4594965,77.0266383\"\n",
    "                        }\n",
    "                    }\n",
    "                ]\n",
    "            }\n",
    "        }\n",
    "    }\n",
    "}\n",
    "\n",
    "request += json.dumps(beckn_payload)\n",
    "\n",
    "print(request)"
   ]
  },
  {
   "cell_type": "code",
   "execution_count": 40,
   "metadata": {},
   "outputs": [
    {
     "data": {
      "text/markdown": [
       "The provided payload is valid as per the Beckn Protocol Specification version 1.1.0.\n"
      ],
      "text/plain": [
       "<IPython.core.display.Markdown object>"
      ]
     },
     "metadata": {},
     "output_type": "display_data"
    }
   ],
   "source": [
    "\n",
    "\n",
    "async with MCPServerStdio(params=params) as mcp_server:\n",
    "    agent = Agent(name=\"specification_expert\", instructions=instructions, model=model, mcp_servers=[mcp_server])\n",
    "    with trace(\"specification_expert\"):\n",
    "        result = await Runner.run(agent, request)\n",
    "    display(Markdown(result.final_output))\n"
   ]
  },
  {
   "cell_type": "code",
   "execution_count": 63,
   "metadata": {},
   "outputs": [],
   "source": [
    "request = \"check if the below JSON is valid as per Beckn protocol Specification. \""
   ]
  },
  {
   "cell_type": "code",
   "execution_count": 64,
   "metadata": {},
   "outputs": [
    {
     "name": "stdout",
     "output_type": "stream",
     "text": [
      "check if the below JSON is valid as per Beckn protocol Specification. {\"context\": {\"domain\": \"local-retail\", \"location\": {\"country\": {\"code\": \"IND\"}, \"city\": {\"code\": \"std:080\"}}, \"action\": \"search\", \"version\": \"1.1.0\", \"bap_id\": \"farmfresh.bap-id.com\", \"bap_uri\": \"https://www.55a6-124-123-32-28.ngrok-free.app\", \"transaction_id\": \"8100d125-76a7-4588-88be-81b97657cd09\", \"message_id\": \"6104c0a3-d1d1-4ded-aaa4-76e4caf727ce\", \"timestamp\": \"2023-11-06T09:41:09.673Z\"}, \"message\": {\"intent\": {\"item\": {\"descriptor\": {\"name\": \"Name of product/service\"}}, \"tags\": [{\"descriptor\": {\"code\": \"BUYER_FINDER_FEES\"}, \"list\": [{\"descriptor\": {\"code\": \"BUYER_FINDER_FEES_PERCENTAGE\"}, \"value\": \"200.00\"}]}], \"category\": {\"descriptor\": {\"code\": \"electronics\"}}, \"fulfillment\": {\"type\": \"DELIVERY\", \"stops\": [{\"location\": {\"gps\": \"28.4594965,77.0266383\"}}]}}}}\n"
     ]
    }
   ],
   "source": [
    "beckn_payload = {\n",
    "    \"context\": {\n",
    "        \"domain\": \"local-retail\",\n",
    "        \"location\": {\n",
    "            \"country\": {\n",
    "                \"code\": \"IND\"\n",
    "            },\n",
    "            \"city\": {\n",
    "                \"code\": \"std:080\"\n",
    "            }\n",
    "        },\n",
    "        \"action\": \"search\",\n",
    "        \"version\": \"1.1.0\",\n",
    "        \"bap_id\": \"farmfresh.bap-id.com\",\n",
    "        \"bap_uri\": \"https://www.55a6-124-123-32-28.ngrok-free.app\",\n",
    "        \"transaction_id\": \"8100d125-76a7-4588-88be-81b97657cd09\",\n",
    "        \"message_id\": \"6104c0a3-d1d1-4ded-aaa4-76e4caf727ce\",\n",
    "        \"timestamp\": \"2023-11-06T09:41:09.673Z\"\n",
    "    },\n",
    "    \"message\": {\n",
    "        \"intent\": {\n",
    "            \"item\": {\n",
    "                \"descriptor\": {\n",
    "                    \"name\": \"Name of product/service\"\n",
    "                }\n",
    "            },\n",
    "            \"tags\": [\n",
    "                {\n",
    "                    \"descriptor\": {\n",
    "                        \"code\": \"BUYER_FINDER_FEES\"\n",
    "                    },\n",
    "                    \"list\": [\n",
    "                        {\n",
    "                            \"descriptor\": {\n",
    "                                \"code\": \"BUYER_FINDER_FEES_PERCENTAGE\"\n",
    "                            },\n",
    "                            \"value\": \"200.00\"\n",
    "                        }\n",
    "                    ]\n",
    "                }\n",
    "            ],\n",
    "            \"category\": {\n",
    "                \"descriptor\": {\n",
    "                    \"code\": \"electronics\"\n",
    "                }\n",
    "            },\n",
    "            \"fulfillment\": {\n",
    "                \"type\": \"DELIVERY\",\n",
    "                \"stops\": [\n",
    "                    {\n",
    "                        \"location\": {\n",
    "                            \"gps\": \"28.4594965,77.0266383\"\n",
    "                        }\n",
    "                    }\n",
    "                ]\n",
    "            }\n",
    "        }\n",
    "    }\n",
    "}\n",
    "\n",
    "request += json.dumps(beckn_payload)\n",
    "\n",
    "print(request)"
   ]
  },
  {
   "cell_type": "code",
   "execution_count": 65,
   "metadata": {},
   "outputs": [
    {
     "data": {
      "text/markdown": [
       "The provided JSON is not a valid Beckn payload. The error message indicates that the value associated with \"BUYER_FINDER_FEES_PERCENTAGE\" does not adhere to the specified pattern. Specifically, the value \"200.00\" violates the regex pattern which likely restricts it to a maximum of \"99.99\".\n"
      ],
      "text/plain": [
       "<IPython.core.display.Markdown object>"
      ]
     },
     "metadata": {},
     "output_type": "display_data"
    }
   ],
   "source": [
    "\n",
    "\n",
    "async with MCPServerStdio(params=params) as mcp_server:\n",
    "    agent = Agent(name=\"specification_expert\", instructions=instructions, model=model, mcp_servers=[mcp_server])\n",
    "    with trace(\"specification_expert\"):\n",
    "        result = await Runner.run(agent, request)\n",
    "    display(Markdown(result.final_output))\n"
   ]
  },
  {
   "cell_type": "markdown",
   "metadata": {},
   "source": [
    "### Now let's build our own MCP Client"
   ]
  },
  {
   "cell_type": "code",
   "execution_count": null,
   "metadata": {},
   "outputs": [],
   "source": [
    "from accounts_client import get_accounts_tools_openai, read_accounts_resource, list_accounts_tools\n",
    "\n",
    "mcp_tools = await list_accounts_tools()\n",
    "print(mcp_tools)\n",
    "openai_tools = await get_accounts_tools_openai()\n",
    "print(openai_tools)"
   ]
  },
  {
   "cell_type": "code",
   "execution_count": null,
   "metadata": {},
   "outputs": [],
   "source": [
    "agent = Agent(name=\"account_manager\", instructions=instructions, model=model, tools=openai_tools)\n",
    "result = await Runner.run(agent, request)\n",
    "display(Markdown(result.final_output))"
   ]
  },
  {
   "cell_type": "code",
   "execution_count": null,
   "metadata": {},
   "outputs": [],
   "source": [
    "context = await read_accounts_resource(\"ed\")\n",
    "print(context)"
   ]
  },
  {
   "cell_type": "code",
   "execution_count": null,
   "metadata": {},
   "outputs": [],
   "source": [
    "from accounts import Account\n",
    "Account.get(\"ed\").report()"
   ]
  }
 ],
 "metadata": {
  "kernelspec": {
   "display_name": ".venv",
   "language": "python",
   "name": "python3"
  },
  "language_info": {
   "codemirror_mode": {
    "name": "ipython",
    "version": 3
   },
   "file_extension": ".py",
   "mimetype": "text/x-python",
   "name": "python",
   "nbconvert_exporter": "python",
   "pygments_lexer": "ipython3",
   "version": "3.12.7"
  }
 },
 "nbformat": 4,
 "nbformat_minor": 2
}
